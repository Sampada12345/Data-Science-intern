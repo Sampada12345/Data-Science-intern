{
 "cells": [
  {
   "cell_type": "markdown",
   "metadata": {
    "id": "QIQthzGeQElR"
   },
   "source": [
    "# Task 4: Predicting the classes using Decision Tree Algorithm\n",
    "\n",
    "### Name : Sampada Pradeep Suryawanshi\n",
    "\n",
    "### Objective: For the given ‘Iris’ dataset, create the Decision Tree classifier and visualize it graphically."
   ]
  },
  {
   "cell_type": "markdown",
   "metadata": {},
   "source": [
    "##### Decision Tree :\n",
    "- Decision tree builds classification or regression models in the form of a tree structure. It breaks down a data set into smaller and smaller subsets while at the same time an associated decision tree is incrementally developed. The final result is a tree with leaf nodes.\n",
    "\n",
    "\n",
    "###### Assumption:\n",
    "- There are no such assumption."
   ]
  },
  {
   "cell_type": "code",
   "execution_count": 1,
   "metadata": {
    "id": "6gY8tXdrQElT"
   },
   "outputs": [],
   "source": [
    "##Import libraries\n",
    "import pandas as pd\n",
    "import numpy as np\n",
    "import seaborn as sns\n",
    "import matplotlib.pyplot as plt\n",
    "%matplotlib inline\n",
    "import warnings\n",
    "import math as ma\n",
    "warnings.filterwarnings(\"ignore\")"
   ]
  },
  {
   "cell_type": "code",
   "execution_count": 2,
   "metadata": {
    "colab": {
     "base_uri": "https://localhost:8080/",
     "height": 159
    },
    "executionInfo": {
     "elapsed": 2000,
     "status": "ok",
     "timestamp": 1602581129387,
     "user": {
      "displayName": "Mrunal Dusane",
      "photoUrl": "https://lh3.googleusercontent.com/a-/AOh14Ggz3J3rl9UBZMAlCoyFhRncuPiL8b-G28WEqmdHQQ=s64",
      "userId": "03616297728881920136"
     },
     "user_tz": -330
    },
    "id": "tFgG-J0ZQEli",
    "outputId": "e731adad-d03b-44eb-ff0f-783003b3da8a"
   },
   "outputs": [
    {
     "name": "stdout",
     "output_type": "stream",
     "text": [
      "150\n"
     ]
    },
    {
     "data": {
      "text/html": [
       "<div>\n",
       "<style scoped>\n",
       "    .dataframe tbody tr th:only-of-type {\n",
       "        vertical-align: middle;\n",
       "    }\n",
       "\n",
       "    .dataframe tbody tr th {\n",
       "        vertical-align: top;\n",
       "    }\n",
       "\n",
       "    .dataframe thead th {\n",
       "        text-align: right;\n",
       "    }\n",
       "</style>\n",
       "<table border=\"1\" class=\"dataframe\">\n",
       "  <thead>\n",
       "    <tr style=\"text-align: right;\">\n",
       "      <th></th>\n",
       "      <th>sepal length (cm)</th>\n",
       "      <th>sepal width (cm)</th>\n",
       "      <th>petal length (cm)</th>\n",
       "      <th>petal width (cm)</th>\n",
       "    </tr>\n",
       "  </thead>\n",
       "  <tbody>\n",
       "    <tr>\n",
       "      <th>0</th>\n",
       "      <td>5.1</td>\n",
       "      <td>3.5</td>\n",
       "      <td>1.4</td>\n",
       "      <td>0.2</td>\n",
       "    </tr>\n",
       "    <tr>\n",
       "      <th>1</th>\n",
       "      <td>4.9</td>\n",
       "      <td>3.0</td>\n",
       "      <td>1.4</td>\n",
       "      <td>0.2</td>\n",
       "    </tr>\n",
       "    <tr>\n",
       "      <th>2</th>\n",
       "      <td>4.7</td>\n",
       "      <td>3.2</td>\n",
       "      <td>1.3</td>\n",
       "      <td>0.2</td>\n",
       "    </tr>\n",
       "  </tbody>\n",
       "</table>\n",
       "</div>"
      ],
      "text/plain": [
       "   sepal length (cm)  sepal width (cm)  petal length (cm)  petal width (cm)\n",
       "0                5.1               3.5                1.4               0.2\n",
       "1                4.9               3.0                1.4               0.2\n",
       "2                4.7               3.2                1.3               0.2"
      ]
     },
     "execution_count": 2,
     "metadata": {},
     "output_type": "execute_result"
    }
   ],
   "source": [
    "# Load the iris dataset\n",
    "from sklearn.datasets import load_iris\n",
    "iris=load_iris()\n",
    "df=pd.DataFrame(iris.data,columns=iris.feature_names)      ### Forming the iris dataframe\n",
    "print(len(df))\n",
    "df.head(3)"
   ]
  },
  {
   "cell_type": "code",
   "execution_count": 3,
   "metadata": {
    "colab": {
     "base_uri": "https://localhost:8080/",
     "height": 34
    },
    "executionInfo": {
     "elapsed": 1977,
     "status": "ok",
     "timestamp": 1602581137995,
     "user": {
      "displayName": "Mrunal Dusane",
      "photoUrl": "https://lh3.googleusercontent.com/a-/AOh14Ggz3J3rl9UBZMAlCoyFhRncuPiL8b-G28WEqmdHQQ=s64",
      "userId": "03616297728881920136"
     },
     "user_tz": -330
    },
    "id": "1zAdjX0bQElq",
    "outputId": "6c64cda6-7629-4bde-9ee6-439e0d208b2c"
   },
   "outputs": [
    {
     "data": {
      "text/plain": [
       "pandas.core.frame.DataFrame"
      ]
     },
     "execution_count": 3,
     "metadata": {},
     "output_type": "execute_result"
    }
   ],
   "source": [
    "type(df)"
   ]
  },
  {
   "cell_type": "code",
   "execution_count": 4,
   "metadata": {
    "colab": {
     "base_uri": "https://localhost:8080/",
     "height": 34
    },
    "executionInfo": {
     "elapsed": 2040,
     "status": "ok",
     "timestamp": 1602581143826,
     "user": {
      "displayName": "Mrunal Dusane",
      "photoUrl": "https://lh3.googleusercontent.com/a-/AOh14Ggz3J3rl9UBZMAlCoyFhRncuPiL8b-G28WEqmdHQQ=s64",
      "userId": "03616297728881920136"
     },
     "user_tz": -330
    },
    "id": "AO9hrbHCQEqE",
    "outputId": "c075d104-7b4b-435e-968b-8e2b90fc348c"
   },
   "outputs": [
    {
     "name": "stdout",
     "output_type": "stream",
     "text": [
      "Dimension of Dataset is: (150, 4)\n"
     ]
    }
   ],
   "source": [
    "print(\"Dimension of Dataset is:\",df.shape)\n",
    "###(rows,coloum)"
   ]
  },
  {
   "cell_type": "markdown",
   "metadata": {
    "id": "ZXEws9fMQEqa"
   },
   "source": [
    "#### checking for null value "
   ]
  },
  {
   "cell_type": "code",
   "execution_count": 5,
   "metadata": {
    "colab": {
     "base_uri": "https://localhost:8080/",
     "height": 68
    },
    "executionInfo": {
     "elapsed": 1122,
     "status": "ok",
     "timestamp": 1602581148986,
     "user": {
      "displayName": "Mrunal Dusane",
      "photoUrl": "https://lh3.googleusercontent.com/a-/AOh14Ggz3J3rl9UBZMAlCoyFhRncuPiL8b-G28WEqmdHQQ=s64",
      "userId": "03616297728881920136"
     },
     "user_tz": -330
    },
    "id": "oVikV7NYQEqe",
    "outputId": "3ee84795-e2f8-4660-aa41-5589e81fd90c"
   },
   "outputs": [
    {
     "data": {
      "text/plain": [
       "Index(['sepal length (cm)', 'sepal width (cm)', 'petal length (cm)',\n",
       "       'petal width (cm)'],\n",
       "      dtype='object')"
      ]
     },
     "execution_count": 5,
     "metadata": {},
     "output_type": "execute_result"
    }
   ],
   "source": [
    "df.columns"
   ]
  },
  {
   "cell_type": "code",
   "execution_count": 6,
   "metadata": {
    "colab": {
     "base_uri": "https://localhost:8080/",
     "height": 204
    },
    "executionInfo": {
     "elapsed": 866,
     "status": "ok",
     "timestamp": 1602581150863,
     "user": {
      "displayName": "Mrunal Dusane",
      "photoUrl": "https://lh3.googleusercontent.com/a-/AOh14Ggz3J3rl9UBZMAlCoyFhRncuPiL8b-G28WEqmdHQQ=s64",
      "userId": "03616297728881920136"
     },
     "user_tz": -330
    },
    "id": "bUAh2ElEQEqo",
    "outputId": "37e9e7fa-4740-49b3-9073-0b096d855587"
   },
   "outputs": [
    {
     "name": "stdout",
     "output_type": "stream",
     "text": [
      "<class 'pandas.core.frame.DataFrame'>\n",
      "RangeIndex: 150 entries, 0 to 149\n",
      "Data columns (total 4 columns):\n",
      " #   Column             Non-Null Count  Dtype  \n",
      "---  ------             --------------  -----  \n",
      " 0   sepal length (cm)  150 non-null    float64\n",
      " 1   sepal width (cm)   150 non-null    float64\n",
      " 2   petal length (cm)  150 non-null    float64\n",
      " 3   petal width (cm)   150 non-null    float64\n",
      "dtypes: float64(4)\n",
      "memory usage: 4.8 KB\n"
     ]
    }
   ],
   "source": [
    "df.info()"
   ]
  },
  {
   "cell_type": "code",
   "execution_count": 7,
   "metadata": {
    "colab": {
     "base_uri": "https://localhost:8080/",
     "height": 419
    },
    "executionInfo": {
     "elapsed": 982,
     "status": "ok",
     "timestamp": 1602581154890,
     "user": {
      "displayName": "Mrunal Dusane",
      "photoUrl": "https://lh3.googleusercontent.com/a-/AOh14Ggz3J3rl9UBZMAlCoyFhRncuPiL8b-G28WEqmdHQQ=s64",
      "userId": "03616297728881920136"
     },
     "user_tz": -330
    },
    "id": "SeqL28pRQEqz",
    "outputId": "e9421b68-3e4c-4925-9520-9d46282c5a89"
   },
   "outputs": [
    {
     "data": {
      "text/html": [
       "<div>\n",
       "<style scoped>\n",
       "    .dataframe tbody tr th:only-of-type {\n",
       "        vertical-align: middle;\n",
       "    }\n",
       "\n",
       "    .dataframe tbody tr th {\n",
       "        vertical-align: top;\n",
       "    }\n",
       "\n",
       "    .dataframe thead th {\n",
       "        text-align: right;\n",
       "    }\n",
       "</style>\n",
       "<table border=\"1\" class=\"dataframe\">\n",
       "  <thead>\n",
       "    <tr style=\"text-align: right;\">\n",
       "      <th></th>\n",
       "      <th>sepal length (cm)</th>\n",
       "      <th>sepal width (cm)</th>\n",
       "      <th>petal length (cm)</th>\n",
       "      <th>petal width (cm)</th>\n",
       "    </tr>\n",
       "  </thead>\n",
       "  <tbody>\n",
       "    <tr>\n",
       "      <th>0</th>\n",
       "      <td>False</td>\n",
       "      <td>False</td>\n",
       "      <td>False</td>\n",
       "      <td>False</td>\n",
       "    </tr>\n",
       "    <tr>\n",
       "      <th>1</th>\n",
       "      <td>False</td>\n",
       "      <td>False</td>\n",
       "      <td>False</td>\n",
       "      <td>False</td>\n",
       "    </tr>\n",
       "    <tr>\n",
       "      <th>2</th>\n",
       "      <td>False</td>\n",
       "      <td>False</td>\n",
       "      <td>False</td>\n",
       "      <td>False</td>\n",
       "    </tr>\n",
       "    <tr>\n",
       "      <th>3</th>\n",
       "      <td>False</td>\n",
       "      <td>False</td>\n",
       "      <td>False</td>\n",
       "      <td>False</td>\n",
       "    </tr>\n",
       "    <tr>\n",
       "      <th>4</th>\n",
       "      <td>False</td>\n",
       "      <td>False</td>\n",
       "      <td>False</td>\n",
       "      <td>False</td>\n",
       "    </tr>\n",
       "    <tr>\n",
       "      <th>...</th>\n",
       "      <td>...</td>\n",
       "      <td>...</td>\n",
       "      <td>...</td>\n",
       "      <td>...</td>\n",
       "    </tr>\n",
       "    <tr>\n",
       "      <th>145</th>\n",
       "      <td>False</td>\n",
       "      <td>False</td>\n",
       "      <td>False</td>\n",
       "      <td>False</td>\n",
       "    </tr>\n",
       "    <tr>\n",
       "      <th>146</th>\n",
       "      <td>False</td>\n",
       "      <td>False</td>\n",
       "      <td>False</td>\n",
       "      <td>False</td>\n",
       "    </tr>\n",
       "    <tr>\n",
       "      <th>147</th>\n",
       "      <td>False</td>\n",
       "      <td>False</td>\n",
       "      <td>False</td>\n",
       "      <td>False</td>\n",
       "    </tr>\n",
       "    <tr>\n",
       "      <th>148</th>\n",
       "      <td>False</td>\n",
       "      <td>False</td>\n",
       "      <td>False</td>\n",
       "      <td>False</td>\n",
       "    </tr>\n",
       "    <tr>\n",
       "      <th>149</th>\n",
       "      <td>False</td>\n",
       "      <td>False</td>\n",
       "      <td>False</td>\n",
       "      <td>False</td>\n",
       "    </tr>\n",
       "  </tbody>\n",
       "</table>\n",
       "<p>150 rows × 4 columns</p>\n",
       "</div>"
      ],
      "text/plain": [
       "     sepal length (cm)  sepal width (cm)  petal length (cm)  petal width (cm)\n",
       "0                False             False              False             False\n",
       "1                False             False              False             False\n",
       "2                False             False              False             False\n",
       "3                False             False              False             False\n",
       "4                False             False              False             False\n",
       "..                 ...               ...                ...               ...\n",
       "145              False             False              False             False\n",
       "146              False             False              False             False\n",
       "147              False             False              False             False\n",
       "148              False             False              False             False\n",
       "149              False             False              False             False\n",
       "\n",
       "[150 rows x 4 columns]"
      ]
     },
     "execution_count": 7,
     "metadata": {},
     "output_type": "execute_result"
    }
   ],
   "source": [
    "df.isna()"
   ]
  },
  {
   "cell_type": "code",
   "execution_count": 8,
   "metadata": {
    "colab": {
     "base_uri": "https://localhost:8080/",
     "height": 34
    },
    "executionInfo": {
     "elapsed": 1219,
     "status": "ok",
     "timestamp": 1602581158427,
     "user": {
      "displayName": "Mrunal Dusane",
      "photoUrl": "https://lh3.googleusercontent.com/a-/AOh14Ggz3J3rl9UBZMAlCoyFhRncuPiL8b-G28WEqmdHQQ=s64",
      "userId": "03616297728881920136"
     },
     "user_tz": -330
    },
    "id": "k_XvqFJaQEq6",
    "outputId": "6bde67f4-247c-4f44-ba0a-7f703cfa4212"
   },
   "outputs": [
    {
     "name": "stdout",
     "output_type": "stream",
     "text": [
      "Total count of missing values in our dataset is:  0\n"
     ]
    }
   ],
   "source": [
    "##tacking care of null values\n",
    "df.isna().sum()\n",
    "print(\"Total count of missing values in our dataset is: \",df.isna().sum().sum())"
   ]
  },
  {
   "cell_type": "markdown",
   "metadata": {
    "id": "nck-XMiJQErN"
   },
   "source": [
    "###### As we can see that there are no missing values in our dataset. "
   ]
  },
  {
   "cell_type": "code",
   "execution_count": 9,
   "metadata": {
    "colab": {
     "base_uri": "https://localhost:8080/",
     "height": 297
    },
    "executionInfo": {
     "elapsed": 1999,
     "status": "ok",
     "timestamp": 1602581172025,
     "user": {
      "displayName": "Mrunal Dusane",
      "photoUrl": "https://lh3.googleusercontent.com/a-/AOh14Ggz3J3rl9UBZMAlCoyFhRncuPiL8b-G28WEqmdHQQ=s64",
      "userId": "03616297728881920136"
     },
     "user_tz": -330
    },
    "id": "qStud7S8QErR",
    "outputId": "dc418fbc-fa4b-4f35-a4dc-6ad836074fba"
   },
   "outputs": [
    {
     "data": {
      "text/html": [
       "<div>\n",
       "<style scoped>\n",
       "    .dataframe tbody tr th:only-of-type {\n",
       "        vertical-align: middle;\n",
       "    }\n",
       "\n",
       "    .dataframe tbody tr th {\n",
       "        vertical-align: top;\n",
       "    }\n",
       "\n",
       "    .dataframe thead th {\n",
       "        text-align: right;\n",
       "    }\n",
       "</style>\n",
       "<table border=\"1\" class=\"dataframe\">\n",
       "  <thead>\n",
       "    <tr style=\"text-align: right;\">\n",
       "      <th></th>\n",
       "      <th>sepal length (cm)</th>\n",
       "      <th>sepal width (cm)</th>\n",
       "      <th>petal length (cm)</th>\n",
       "      <th>petal width (cm)</th>\n",
       "    </tr>\n",
       "  </thead>\n",
       "  <tbody>\n",
       "    <tr>\n",
       "      <th>count</th>\n",
       "      <td>150.000000</td>\n",
       "      <td>150.000000</td>\n",
       "      <td>150.000000</td>\n",
       "      <td>150.000000</td>\n",
       "    </tr>\n",
       "    <tr>\n",
       "      <th>mean</th>\n",
       "      <td>5.843333</td>\n",
       "      <td>3.057333</td>\n",
       "      <td>3.758000</td>\n",
       "      <td>1.199333</td>\n",
       "    </tr>\n",
       "    <tr>\n",
       "      <th>std</th>\n",
       "      <td>0.828066</td>\n",
       "      <td>0.435866</td>\n",
       "      <td>1.765298</td>\n",
       "      <td>0.762238</td>\n",
       "    </tr>\n",
       "    <tr>\n",
       "      <th>min</th>\n",
       "      <td>4.300000</td>\n",
       "      <td>2.000000</td>\n",
       "      <td>1.000000</td>\n",
       "      <td>0.100000</td>\n",
       "    </tr>\n",
       "    <tr>\n",
       "      <th>25%</th>\n",
       "      <td>5.100000</td>\n",
       "      <td>2.800000</td>\n",
       "      <td>1.600000</td>\n",
       "      <td>0.300000</td>\n",
       "    </tr>\n",
       "    <tr>\n",
       "      <th>50%</th>\n",
       "      <td>5.800000</td>\n",
       "      <td>3.000000</td>\n",
       "      <td>4.350000</td>\n",
       "      <td>1.300000</td>\n",
       "    </tr>\n",
       "    <tr>\n",
       "      <th>75%</th>\n",
       "      <td>6.400000</td>\n",
       "      <td>3.300000</td>\n",
       "      <td>5.100000</td>\n",
       "      <td>1.800000</td>\n",
       "    </tr>\n",
       "    <tr>\n",
       "      <th>max</th>\n",
       "      <td>7.900000</td>\n",
       "      <td>4.400000</td>\n",
       "      <td>6.900000</td>\n",
       "      <td>2.500000</td>\n",
       "    </tr>\n",
       "  </tbody>\n",
       "</table>\n",
       "</div>"
      ],
      "text/plain": [
       "       sepal length (cm)  sepal width (cm)  petal length (cm)  \\\n",
       "count         150.000000        150.000000         150.000000   \n",
       "mean            5.843333          3.057333           3.758000   \n",
       "std             0.828066          0.435866           1.765298   \n",
       "min             4.300000          2.000000           1.000000   \n",
       "25%             5.100000          2.800000           1.600000   \n",
       "50%             5.800000          3.000000           4.350000   \n",
       "75%             6.400000          3.300000           5.100000   \n",
       "max             7.900000          4.400000           6.900000   \n",
       "\n",
       "       petal width (cm)  \n",
       "count        150.000000  \n",
       "mean           1.199333  \n",
       "std            0.762238  \n",
       "min            0.100000  \n",
       "25%            0.300000  \n",
       "50%            1.300000  \n",
       "75%            1.800000  \n",
       "max            2.500000  "
      ]
     },
     "execution_count": 9,
     "metadata": {},
     "output_type": "execute_result"
    }
   ],
   "source": [
    "df.describe()"
   ]
  },
  {
   "cell_type": "code",
   "execution_count": 10,
   "metadata": {
    "id": "pXAa4FTSQErY"
   },
   "outputs": [],
   "source": [
    "from sklearn.model_selection import train_test_split\n",
    "from sklearn.preprocessing import StandardScaler\n",
    "from sklearn.metrics import confusion_matrix\n",
    "from sklearn import tree\n",
    "from sklearn.tree import DecisionTreeClassifier"
   ]
  },
  {
   "cell_type": "code",
   "execution_count": 11,
   "metadata": {
    "colab": {
     "base_uri": "https://localhost:8080/",
     "height": 102
    },
    "executionInfo": {
     "elapsed": 985,
     "status": "ok",
     "timestamp": 1602581180554,
     "user": {
      "displayName": "Mrunal Dusane",
      "photoUrl": "https://lh3.googleusercontent.com/a-/AOh14Ggz3J3rl9UBZMAlCoyFhRncuPiL8b-G28WEqmdHQQ=s64",
      "userId": "03616297728881920136"
     },
     "user_tz": -330
    },
    "id": "rTdPV9PwQErn",
    "outputId": "28e98fca-5d66-40c6-913c-6c433de92f8a"
   },
   "outputs": [
    {
     "name": "stdout",
     "output_type": "stream",
     "text": [
      "[0 0 0 0 0 0 0 0 0 0 0 0 0 0 0 0 0 0 0 0 0 0 0 0 0 0 0 0 0 0 0 0 0 0 0 0 0\n",
      " 0 0 0 0 0 0 0 0 0 0 0 0 0 1 1 1 1 1 1 1 1 1 1 1 1 1 1 1 1 1 1 1 1 1 1 1 1\n",
      " 1 1 1 1 1 1 1 1 1 1 1 1 1 1 1 1 1 1 1 1 1 1 1 1 1 1 2 2 2 2 2 2 2 2 2 2 2\n",
      " 2 2 2 2 2 2 2 2 2 2 2 2 2 2 2 2 2 2 2 2 2 2 2 2 2 2 2 2 2 2 2 2 2 2 2 2 2\n",
      " 2 2]\n"
     ]
    }
   ],
   "source": [
    "y=iris.target\n",
    "print(y)"
   ]
  },
  {
   "cell_type": "code",
   "execution_count": 12,
   "metadata": {
    "colab": {
     "base_uri": "https://localhost:8080/",
     "height": 255
    },
    "executionInfo": {
     "elapsed": 1201,
     "status": "ok",
     "timestamp": 1602581184661,
     "user": {
      "displayName": "Mrunal Dusane",
      "photoUrl": "https://lh3.googleusercontent.com/a-/AOh14Ggz3J3rl9UBZMAlCoyFhRncuPiL8b-G28WEqmdHQQ=s64",
      "userId": "03616297728881920136"
     },
     "user_tz": -330
    },
    "id": "w42bpN6cQEr0",
    "outputId": "03bee286-0964-4dcd-dc57-d126422d87c4"
   },
   "outputs": [
    {
     "name": "stdout",
     "output_type": "stream",
     "text": [
      "     sepal length (cm)  sepal width (cm)  petal length (cm)  petal width (cm)\n",
      "0                  5.1               3.5                1.4               0.2\n",
      "1                  4.9               3.0                1.4               0.2\n",
      "2                  4.7               3.2                1.3               0.2\n",
      "3                  4.6               3.1                1.5               0.2\n",
      "4                  5.0               3.6                1.4               0.2\n",
      "..                 ...               ...                ...               ...\n",
      "145                6.7               3.0                5.2               2.3\n",
      "146                6.3               2.5                5.0               1.9\n",
      "147                6.5               3.0                5.2               2.0\n",
      "148                6.2               3.4                5.4               2.3\n",
      "149                5.9               3.0                5.1               1.8\n",
      "\n",
      "[150 rows x 4 columns]\n"
     ]
    }
   ],
   "source": [
    "x=df\n",
    "print(x)"
   ]
  },
  {
   "cell_type": "code",
   "execution_count": 13,
   "metadata": {
    "id": "MxGdVmZkQEr6"
   },
   "outputs": [],
   "source": [
    "x_train, x_test, y_train, y_test = train_test_split(x, y, \n",
    "                            test_size=0.3, random_state=0) "
   ]
  },
  {
   "cell_type": "code",
   "execution_count": 14,
   "metadata": {
    "id": "klmgfkEsQEsB"
   },
   "outputs": [],
   "source": [
    "scaler=StandardScaler()\n",
    "x_train=scaler.fit_transform(x_train)\n",
    "x_test=scaler.fit_transform(x_test)"
   ]
  },
  {
   "cell_type": "code",
   "execution_count": 15,
   "metadata": {
    "colab": {
     "base_uri": "https://localhost:8080/",
     "height": 119
    },
    "executionInfo": {
     "elapsed": 2179,
     "status": "ok",
     "timestamp": 1602589159175,
     "user": {
      "displayName": "Mrunal Dusane",
      "photoUrl": "https://lh3.googleusercontent.com/a-/AOh14Ggz3J3rl9UBZMAlCoyFhRncuPiL8b-G28WEqmdHQQ=s64",
      "userId": "03616297728881920136"
     },
     "user_tz": -330
    },
    "id": "vrTxJr2bQEsN",
    "outputId": "386eb2c7-04d5-4f51-e735-45f124db5098"
   },
   "outputs": [
    {
     "data": {
      "text/plain": [
       "DecisionTreeClassifier(random_state=0)"
      ]
     },
     "execution_count": 15,
     "metadata": {},
     "output_type": "execute_result"
    }
   ],
   "source": [
    "decisionTree=DecisionTreeClassifier(random_state=0)\n",
    "decisionTree.fit(x_train,y_train)"
   ]
  },
  {
   "cell_type": "code",
   "execution_count": 16,
   "metadata": {
    "colab": {
     "base_uri": "https://localhost:8080/",
     "height": 68
    },
    "executionInfo": {
     "elapsed": 2117,
     "status": "ok",
     "timestamp": 1602589163579,
     "user": {
      "displayName": "Mrunal Dusane",
      "photoUrl": "https://lh3.googleusercontent.com/a-/AOh14Ggz3J3rl9UBZMAlCoyFhRncuPiL8b-G28WEqmdHQQ=s64",
      "userId": "03616297728881920136"
     },
     "user_tz": -330
    },
    "id": "zTxXGjYUQEsW",
    "outputId": "4975cb35-6c0c-4d2e-8abe-31d621c7d289"
   },
   "outputs": [
    {
     "data": {
      "text/plain": [
       "array([2, 1, 0, 2, 0, 2, 0, 2, 2, 1, 2, 1, 2, 1, 2, 0, 1, 1, 0, 0, 2, 1,\n",
       "       0, 0, 2, 0, 0, 1, 1, 0, 2, 1, 0, 2, 2, 1, 0, 1, 1, 1, 2, 0, 2, 0,\n",
       "       0])"
      ]
     },
     "execution_count": 16,
     "metadata": {},
     "output_type": "execute_result"
    }
   ],
   "source": [
    "y_pred=decisionTree.predict(x_test)\n",
    "y_pred"
   ]
  },
  {
   "cell_type": "code",
   "execution_count": 17,
   "metadata": {
    "colab": {
     "base_uri": "https://localhost:8080/",
     "height": 34
    },
    "executionInfo": {
     "elapsed": 4255,
     "status": "ok",
     "timestamp": 1602589171800,
     "user": {
      "displayName": "Mrunal Dusane",
      "photoUrl": "https://lh3.googleusercontent.com/a-/AOh14Ggz3J3rl9UBZMAlCoyFhRncuPiL8b-G28WEqmdHQQ=s64",
      "userId": "03616297728881920136"
     },
     "user_tz": -330
    },
    "id": "NzqcAdtLQEsb",
    "outputId": "d231c9cd-a810-439f-afb3-c1395e590ee9"
   },
   "outputs": [
    {
     "name": "stdout",
     "output_type": "stream",
     "text": [
      "Accuracy of our model is: 91.11 %\n"
     ]
    }
   ],
   "source": [
    "from sklearn.metrics import accuracy_score\n",
    "print(\"Accuracy of our model is:\",round(accuracy_score(y_test,y_pred)*100,2),\"%\")"
   ]
  },
  {
   "cell_type": "markdown",
   "metadata": {
    "id": "eNLuAAntQEsm"
   },
   "source": [
    "###### Our trained model is giving 91.11% accuracy. "
   ]
  },
  {
   "cell_type": "code",
   "execution_count": 18,
   "metadata": {
    "colab": {
     "base_uri": "https://localhost:8080/",
     "height": 68
    },
    "executionInfo": {
     "elapsed": 4846,
     "status": "ok",
     "timestamp": 1602589175652,
     "user": {
      "displayName": "Mrunal Dusane",
      "photoUrl": "https://lh3.googleusercontent.com/a-/AOh14Ggz3J3rl9UBZMAlCoyFhRncuPiL8b-G28WEqmdHQQ=s64",
      "userId": "03616297728881920136"
     },
     "user_tz": -330
    },
    "id": "FdLxXyDjQEsp",
    "outputId": "00493a65-2f44-42ce-9420-f60570fd1b65"
   },
   "outputs": [
    {
     "data": {
      "text/plain": [
       "array([[16,  0,  0],\n",
       "       [ 0, 14,  4],\n",
       "       [ 0,  0, 11]], dtype=int64)"
      ]
     },
     "execution_count": 18,
     "metadata": {},
     "output_type": "execute_result"
    }
   ],
   "source": [
    "cm=confusion_matrix(y_test,y_pred)\n",
    "cm"
   ]
  },
  {
   "cell_type": "markdown",
   "metadata": {
    "id": "ke2T3YhupLcw"
   },
   "source": [
    "Interpretating Confusion Matrix:\n",
    "\n",
    "       It gives us the rate of True Positive, True Negative, False Negative, False Positive\n",
    "       We can do the below calculations from Confusion Matrix.\n",
    "       1. Accuracy (all correct / all) = TP + TN / TP + TN + FP + FN\n",
    "       2. Misclassification (all incorrect / all) = FP + FN / TP + TN + FP + FN\n",
    "       3. Precision (true positives / predicted positives) = TP / TP + FP\n",
    "  From our matrix these calculations are:\n",
    "\n",
    "       1. Accuracy = 0.91  (which is similar to sklearn.metrics's)  accuracy_score \n",
    "       2. Misclassified = 0.089    i.e (1 - accuracy)\n",
    "       3. If we consider one vs rest. (3rd) class vs (1st+2nd) class\n",
    "          = (16+14)/(16+14+4) = 30/34 = 0.88\n"
   ]
  },
  {
   "cell_type": "code",
   "execution_count": 19,
   "metadata": {
    "colab": {
     "base_uri": "https://localhost:8080/",
     "height": 1000
    },
    "executionInfo": {
     "elapsed": 3775,
     "status": "ok",
     "timestamp": 1602589220186,
     "user": {
      "displayName": "Mrunal Dusane",
      "photoUrl": "https://lh3.googleusercontent.com/a-/AOh14Ggz3J3rl9UBZMAlCoyFhRncuPiL8b-G28WEqmdHQQ=s64",
      "userId": "03616297728881920136"
     },
     "user_tz": -330
    },
    "id": "Qu9AhBZgQEsw",
    "outputId": "be0682d7-b0eb-4e14-ecdf-aea6eea21978"
   },
   "outputs": [
    {
     "data": {
      "text/plain": [
       "[Text(325.5, 713.475, 'petal width (cm) <= -0.615\\ngini = 0.664\\nsamples = 105\\nvalue = [34, 32, 39]\\nclass = Iris-versicolor'),\n",
       " Text(244.125, 554.925, 'gini = 0.0\\nsamples = 34\\nvalue = [34, 0, 0]\\nclass = Iris-virginica'),\n",
       " Text(406.875, 554.925, 'petal length (cm) <= 0.624\\ngini = 0.495\\nsamples = 71\\nvalue = [0, 32, 39]\\nclass = Iris-versicolor'),\n",
       " Text(162.75, 396.375, 'petal width (cm) <= 0.544\\ngini = 0.161\\nsamples = 34\\nvalue = [0, 31, 3]\\nclass = Iris-setosa'),\n",
       " Text(81.375, 237.82499999999993, 'gini = 0.0\\nsamples = 30\\nvalue = [0, 30, 0]\\nclass = Iris-setosa'),\n",
       " Text(244.125, 237.82499999999993, 'sepal width (cm) <= 0.126\\ngini = 0.375\\nsamples = 4\\nvalue = [0, 1, 3]\\nclass = Iris-versicolor'),\n",
       " Text(162.75, 79.27499999999998, 'gini = 0.0\\nsamples = 3\\nvalue = [0, 0, 3]\\nclass = Iris-versicolor'),\n",
       " Text(325.5, 79.27499999999998, 'gini = 0.0\\nsamples = 1\\nvalue = [0, 1, 0]\\nclass = Iris-setosa'),\n",
       " Text(651.0, 396.375, 'petal width (cm) <= 0.673\\ngini = 0.053\\nsamples = 37\\nvalue = [0, 1, 36]\\nclass = Iris-versicolor'),\n",
       " Text(569.625, 237.82499999999993, 'petal width (cm) <= 0.544\\ngini = 0.375\\nsamples = 4\\nvalue = [0, 1, 3]\\nclass = Iris-versicolor'),\n",
       " Text(488.25, 79.27499999999998, 'gini = 0.0\\nsamples = 3\\nvalue = [0, 0, 3]\\nclass = Iris-versicolor'),\n",
       " Text(651.0, 79.27499999999998, 'gini = 0.0\\nsamples = 1\\nvalue = [0, 1, 0]\\nclass = Iris-setosa'),\n",
       " Text(732.375, 237.82499999999993, 'gini = 0.0\\nsamples = 33\\nvalue = [0, 0, 33]\\nclass = Iris-versicolor')]"
      ]
     },
     "execution_count": 19,
     "metadata": {},
     "output_type": "execute_result"
    },
    {
     "data": {
      "image/png": "[encoded data removed]",
      "text/plain": [
       "<Figure size 1050x1050 with 1 Axes>"
      ]
     },
     "metadata": {
      "needs_background": "light"
     },
     "output_type": "display_data"
    }
   ],
   "source": [
    "#plt.figure(figsize=(15,10))\n",
    "#tree.plot_tree(decisionTree,filled=True)\n",
    "fig,axes=plt.subplots(nrows=1,ncols=1,figsize=(3,3),dpi=350)\n",
    "fn=[\"sepal length (cm)\",\"sepal width (cm)\",\"petal length (cm)\",\"petal width (cm)\"]\n",
    "tree.plot_tree(decisionTree,feature_names=fn,class_names=[\"Iris-virginica\",\"Iris-setosa\",\"Iris-versicolor\"],filled=True,fontsize=2)"
   ]
  },
  {
   "cell_type": "markdown",
   "metadata": {
    "id": "ENvcX1kXe2aK"
   },
   "source": [
    "###### Reading the decision tree:\n",
    "\n",
    "\n",
    "1.   Here we have made the split using GINI impurity\n",
    "2.   Using this criteria we have selected 'petal width' feature for the root node split.\n",
    "3.   We have correctly classified all the observations with good accuracy(can be viewed from the leaf node)\n"
   ]
  },
  {
   "cell_type": "code",
   "execution_count": 20,
   "metadata": {
    "colab": {
     "base_uri": "https://localhost:8080/",
     "height": 357
    },
    "executionInfo": {
     "elapsed": 2186,
     "status": "ok",
     "timestamp": 1602585422206,
     "user": {
      "displayName": "Mrunal Dusane",
      "photoUrl": "https://lh3.googleusercontent.com/a-/AOh14Ggz3J3rl9UBZMAlCoyFhRncuPiL8b-G28WEqmdHQQ=s64",
      "userId": "03616297728881920136"
     },
     "user_tz": -330
    },
    "id": "g0WYq2tqQEs2",
    "outputId": "16fd88d6-cf3d-42cf-905e-93562adb6f01"
   },
   "outputs": [
    {
     "name": "stdout",
     "output_type": "stream",
     "text": [
      "|--- feature_3 <= -0.62\n",
      "|   |--- class: 0\n",
      "|--- feature_3 >  -0.62\n",
      "|   |--- feature_2 <= 0.62\n",
      "|   |   |--- feature_3 <= 0.54\n",
      "|   |   |   |--- class: 1\n",
      "|   |   |--- feature_3 >  0.54\n",
      "|   |   |   |--- feature_1 <= 0.13\n",
      "|   |   |   |   |--- class: 2\n",
      "|   |   |   |--- feature_1 >  0.13\n",
      "|   |   |   |   |--- class: 1\n",
      "|   |--- feature_2 >  0.62\n",
      "|   |   |--- feature_3 <= 0.67\n",
      "|   |   |   |--- feature_3 <= 0.54\n",
      "|   |   |   |   |--- class: 2\n",
      "|   |   |   |--- feature_3 >  0.54\n",
      "|   |   |   |   |--- class: 1\n",
      "|   |   |--- feature_3 >  0.67\n",
      "|   |   |   |--- class: 2\n",
      "\n"
     ]
    }
   ],
   "source": [
    "print(tree.export_text(decisionTree))"
   ]
  },
  {
   "cell_type": "markdown",
   "metadata": {
    "id": "fwrUtxogQEs8"
   },
   "source": [
    "### Post pruning decision trees with cost complexity pruning \n",
    "\n",
    "DecisionTreeClassifier provides parameters such as min_samles_leaf and max_depth to prevent a tree from overfiting.Cost complexity  pruning provides another option to control the size of a tree.  "
   ]
  },
  {
   "cell_type": "markdown",
   "metadata": {},
   "source": [
    "Pruning reduces the size of decision trees by removing parts of the tree that do not provide power to classify instances. Decision trees are the most susceptible out of all the machine learning algorithms to overfitting and effective pruning can reduce this likelihood."
   ]
  },
  {
   "cell_type": "code",
   "execution_count": 21,
   "metadata": {
    "id": "OGOoZw7UQEs9"
   },
   "outputs": [],
   "source": [
    "path=decisionTree.cost_complexity_pruning_path(x_train,y_train)\n",
    "ccp_alphas,impurities=path.ccp_alphas,path.impurities"
   ]
  },
  {
   "cell_type": "code",
   "execution_count": 22,
   "metadata": {
    "colab": {
     "base_uri": "https://localhost:8080/",
     "height": 51
    },
    "executionInfo": {
     "elapsed": 2322,
     "status": "ok",
     "timestamp": 1602585523057,
     "user": {
      "displayName": "Mrunal Dusane",
      "photoUrl": "https://lh3.googleusercontent.com/a-/AOh14Ggz3J3rl9UBZMAlCoyFhRncuPiL8b-G28WEqmdHQQ=s64",
      "userId": "03616297728881920136"
     },
     "user_tz": -330
    },
    "id": "Wmu40KxtQEtD",
    "outputId": "02cb4133-76b7-434c-86ad-6e4055ca9c1f"
   },
   "outputs": [
    {
     "data": {
      "text/plain": [
       "array([0.        , 0.00926641, 0.01428571, 0.03781513, 0.26417519,\n",
       "       0.32949954])"
      ]
     },
     "execution_count": 22,
     "metadata": {},
     "output_type": "execute_result"
    }
   ],
   "source": [
    "ccp_alphas"
   ]
  },
  {
   "cell_type": "code",
   "execution_count": 23,
   "metadata": {
    "colab": {
     "base_uri": "https://localhost:8080/",
     "height": 34
    },
    "executionInfo": {
     "elapsed": 1359,
     "status": "ok",
     "timestamp": 1602585592843,
     "user": {
      "displayName": "Mrunal Dusane",
      "photoUrl": "https://lh3.googleusercontent.com/a-/AOh14Ggz3J3rl9UBZMAlCoyFhRncuPiL8b-G28WEqmdHQQ=s64",
      "userId": "03616297728881920136"
     },
     "user_tz": -330
    },
    "id": "QUw_2kx3QEtI",
    "outputId": "e2834932-6701-4969-f3d0-027042bb37db"
   },
   "outputs": [
    {
     "name": "stdout",
     "output_type": "stream",
     "text": [
      "number of nodes in the last tree is:1 with ccp_alpha: 0.32949953690396344 \n"
     ]
    }
   ],
   "source": [
    "clfs=[]\n",
    "for ccp_alpha in ccp_alphas:\n",
    "    clf=DecisionTreeClassifier(random_state=0,ccp_alpha=ccp_alpha)\n",
    "    clf.fit(x_train,y_train)\n",
    "    clfs.append(clf)\n",
    "print(\"number of nodes in the last tree is:{} with ccp_alpha: {} \".format(\n",
    "       clfs[-1].tree_.node_count,ccp_alphas[-1]))    "
   ]
  },
  {
   "cell_type": "code",
   "execution_count": 24,
   "metadata": {
    "colab": {
     "base_uri": "https://localhost:8080/",
     "height": 295
    },
    "executionInfo": {
     "elapsed": 1286,
     "status": "ok",
     "timestamp": 1602585599607,
     "user": {
      "displayName": "Mrunal Dusane",
      "photoUrl": "https://lh3.googleusercontent.com/a-/AOh14Ggz3J3rl9UBZMAlCoyFhRncuPiL8b-G28WEqmdHQQ=s64",
      "userId": "03616297728881920136"
     },
     "user_tz": -330
    },
    "id": "5H0SgsKUQEtP",
    "outputId": "39122cc9-ca36-42b5-9899-c3802fd1ae52"
   },
   "outputs": [
    {
     "data": {
      "image/png": "[encoded data removed]",
      "text/plain": [
       "<Figure size 432x288 with 1 Axes>"
      ]
     },
     "metadata": {
      "needs_background": "light"
     },
     "output_type": "display_data"
    }
   ],
   "source": [
    "train_scores=[clf.score(x_train,y_train) for clf in clfs]\n",
    "test_scores=[clf.score(x_test,y_test) for clf in clfs]\n",
    "\n",
    "fig,ax=plt.subplots()\n",
    "ax.set_xlabel(\"alpha\")\n",
    "ax.set_ylabel(\"Accuracy\")\n",
    "ax.set_title(\"Accuracy vs alpha for training and testing sets\")\n",
    "ax.plot(ccp_alphas,train_scores,marker='o',label=\"train\",drawstyle=\"steps-post\")\n",
    "ax.plot(ccp_alphas,test_scores,marker='o',label=\"test\",drawstyle=\"steps-post\")\n",
    "ax.legend()\n",
    "plt.show()"
   ]
  },
  {
   "cell_type": "markdown",
   "metadata": {},
   "source": [
    "####   From this graph we can clearly see that,model is not overfitting the data at severe extent."
   ]
  },
  {
   "cell_type": "code",
   "execution_count": 25,
   "metadata": {
    "id": "lU3HNm8cQEtW",
    "outputId": "bd4ddb5f-8a76-4cec-d1b1-61b746c04444"
   },
   "outputs": [
    {
     "data": {
      "text/plain": [
       "DecisionTreeClassifier(ccp_alpha=0.0001, random_state=0)"
      ]
     },
     "execution_count": 25,
     "metadata": {},
     "output_type": "execute_result"
    }
   ],
   "source": [
    "clf=DecisionTreeClassifier(random_state=0,ccp_alpha=0.0001)\n",
    "clf.fit(x_train,y_train)"
   ]
  },
  {
   "cell_type": "code",
   "execution_count": 26,
   "metadata": {
    "id": "w3ZwLeNuQEtb",
    "outputId": "f55e920d-5948-4a04-a458-184ba8b033ec"
   },
   "outputs": [
    {
     "data": {
      "text/plain": [
       "0.9111111111111111"
      ]
     },
     "execution_count": 26,
     "metadata": {},
     "output_type": "execute_result"
    }
   ],
   "source": [
    "pred=clf.predict(x_test)\n",
    "from sklearn.metrics import accuracy_score\n",
    "accuracy_score(y_test,pred)"
   ]
  },
  {
   "cell_type": "code",
   "execution_count": 27,
   "metadata": {
    "id": "oqqOC3axQEtk",
    "outputId": "6f25c917-824b-4e6e-8a07-18ee42d6f82d"
   },
   "outputs": [
    {
     "data": {
      "text/plain": [
       "[Text(334.8, 489.24, 'X[3] <= -0.615\\ngini = 0.664\\nsamples = 105\\nvalue = [34, 32, 39]'),\n",
       " Text(251.10000000000002, 380.52000000000004, 'gini = 0.0\\nsamples = 34\\nvalue = [34, 0, 0]'),\n",
       " Text(418.5, 380.52000000000004, 'X[2] <= 0.624\\ngini = 0.495\\nsamples = 71\\nvalue = [0, 32, 39]'),\n",
       " Text(167.4, 271.8, 'X[3] <= 0.544\\ngini = 0.161\\nsamples = 34\\nvalue = [0, 31, 3]'),\n",
       " Text(83.7, 163.08000000000004, 'gini = 0.0\\nsamples = 30\\nvalue = [0, 30, 0]'),\n",
       " Text(251.10000000000002, 163.08000000000004, 'X[1] <= 0.126\\ngini = 0.375\\nsamples = 4\\nvalue = [0, 1, 3]'),\n",
       " Text(167.4, 54.360000000000014, 'gini = 0.0\\nsamples = 3\\nvalue = [0, 0, 3]'),\n",
       " Text(334.8, 54.360000000000014, 'gini = 0.0\\nsamples = 1\\nvalue = [0, 1, 0]'),\n",
       " Text(669.6, 271.8, 'X[3] <= 0.673\\ngini = 0.053\\nsamples = 37\\nvalue = [0, 1, 36]'),\n",
       " Text(585.9, 163.08000000000004, 'X[3] <= 0.544\\ngini = 0.375\\nsamples = 4\\nvalue = [0, 1, 3]'),\n",
       " Text(502.20000000000005, 54.360000000000014, 'gini = 0.0\\nsamples = 3\\nvalue = [0, 0, 3]'),\n",
       " Text(669.6, 54.360000000000014, 'gini = 0.0\\nsamples = 1\\nvalue = [0, 1, 0]'),\n",
       " Text(753.3000000000001, 163.08000000000004, 'gini = 0.0\\nsamples = 33\\nvalue = [0, 0, 33]')]"
      ]
     },
     "execution_count": 27,
     "metadata": {},
     "output_type": "execute_result"
    },
    {
     "data": {
      "image/png": "[encoded data removed]",
      "text/plain": [
       "<Figure size 1080x720 with 1 Axes>"
      ]
     },
     "metadata": {
      "needs_background": "light"
     },
     "output_type": "display_data"
    }
   ],
   "source": [
    "from sklearn import tree\n",
    "plt.figure(figsize=(15,10))\n",
    "tree.plot_tree(clf,filled=True)\n"
   ]
  },
  {
   "cell_type": "markdown",
   "metadata": {
    "id": "n69FokLeQEuY"
   },
   "source": [
    "### Here,gini=0 indicates no further proceeding is required."
   ]
  },
  {
   "cell_type": "markdown",
   "metadata": {},
   "source": [
    "### From this also it is clear that,there is no overfitting issue,since we are getting same accuracy even after post pruning our decision tree."
   ]
  },
  {
   "cell_type": "code",
   "execution_count": null,
   "metadata": {},
   "outputs": [],
   "source": []
  }
 ],
 "metadata": {
  "colab": {
   "collapsed_sections": [],
   "name": "Decision Tree Use Case.ipynb",
   "provenance": []
  },
  "kernelspec": {
   "display_name": "Python 3",
   "language": "python",
   "name": "python3"
  },
  "language_info": {
   "codemirror_mode": {
    "name": "ipython",
    "version": 3
   },
   "file_extension": ".py",
   "mimetype": "text/x-python",
   "name": "python",
   "nbconvert_exporter": "python",
   "pygments_lexer": "ipython3",
   "version": "3.8.3"
  }
 },
 "nbformat": 4,
 "nbformat_minor": 1
}
